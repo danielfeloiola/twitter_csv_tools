{
 "cells": [
  {
   "cell_type": "code",
   "execution_count": null,
   "metadata": {},
   "outputs": [],
   "source": [
    "# RESPOSTAS\n",
    "# Coloca replies em um arquivo csv separado\n",
    "\n",
    "########################################\n",
    "\n",
    "# importa a biblioteca csv\n",
    "import csv\n",
    "\n",
    "# Coloque aqui o nome do arquivo a ser dividido\n",
    "input_file = \"tcat_WC2018_VAR-20181126-20190131-----------fullExport--09e31a9f9d.csv\"\n",
    "\n",
    "# Cria os arquivos necessários\n",
    "file = open(input_file, 'r')\n",
    "file2 = open('output.csv', 'w')\n",
    "escritor = csv.writer(file2, lineterminator = '\\n')\n",
    "\n",
    "for line in csv.reader(file):\n",
    "    \n",
    "    if line[14] != '':\n",
    "        \n",
    "        escritor.writerow(line)\n",
    "            \n",
    "file.close()\n",
    "file2.close()"
   ]
  }
 ],
 "metadata": {
  "kernelspec": {
   "display_name": "Python 3",
   "language": "python",
   "name": "python3"
  },
  "language_info": {
   "codemirror_mode": {
    "name": "ipython",
    "version": 3
   },
   "file_extension": ".py",
   "mimetype": "text/x-python",
   "name": "python",
   "nbconvert_exporter": "python",
   "pygments_lexer": "ipython3",
   "version": "3.7.1"
  }
 },
 "nbformat": 4,
 "nbformat_minor": 2
}
