{
 "cells": [
  {
   "cell_type": "code",
   "execution_count": null,
   "metadata": {},
   "outputs": [],
   "source": [
    "# Filtrar\n",
    "# Cria um novo csv, removendo um termo específico\n",
    "\n",
    "\n",
    "########################################\n",
    "\n",
    "# importa a biblioteca csv\n",
    "import csv\n",
    "\n",
    "# Pontuacao\n",
    "punctuation = ['.',',',';',':','?','!','@','$','\"','*','_','-','[',']','/','(',')','#','1','2','3','4','5','6','7','8','9','0']\n",
    "\n",
    "# termo buscado \n",
    "# use caixa baixa - o .lower() vai procurar pelo termo em caixa alta e baixa\n",
    "# nesta versão a pontução - incluindo # serao removidos\n",
    "termo = 'var'\n",
    "\n",
    "# Coloque aqui o nome do arquivo a ser dividido\n",
    "input_file = \"tcat_WC2018_VAR-20181126-20190131-----------fullExport--09e31a9f9d.csv\"\n",
    "\n",
    "# Cria os arquivos necessários\n",
    "file = open(input_file, 'r')\n",
    "file2 = open('output.csv', 'w')\n",
    "escritor = csv.writer(file2, lineterminator = '\\n')\n",
    "\n",
    "for line in csv.reader(file):\n",
    "    for word in line[4].split(' '):\n",
    "        # remove a pontuação\n",
    "        for char in punctuation:\n",
    "            word = word.replace(char, ' ')\n",
    "        \n",
    "            if word.lower() == termo:\n",
    "                print(line)\n",
    "                escritor.writerow(line)\n",
    "                \n",
    "file.close()\n",
    "file2.close()"
   ]
  }
 ],
 "metadata": {
  "kernelspec": {
   "display_name": "Python 3",
   "language": "python",
   "name": "python3"
  },
  "language_info": {
   "codemirror_mode": {
    "name": "ipython",
    "version": 3
   },
   "file_extension": ".py",
   "mimetype": "text/x-python",
   "name": "python",
   "nbconvert_exporter": "python",
   "pygments_lexer": "ipython3",
   "version": "3.7.1"
  }
 },
 "nbformat": 4,
 "nbformat_minor": 2
}
