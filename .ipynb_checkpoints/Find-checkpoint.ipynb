{
 "cells": [
  {
   "cell_type": "code",
   "execution_count": 1,
   "metadata": {},
   "outputs": [
    {
     "ename": "FileNotFoundError",
     "evalue": "[Errno 2] No such file or directory: 'tcat_WC2018_VAR-20181126-20190131-----------fullExport--09e31a9f9d.csv'",
     "output_type": "error",
     "traceback": [
      "\u001b[0;31m---------------------------------------------------------------------------\u001b[0m",
      "\u001b[0;31mFileNotFoundError\u001b[0m                         Traceback (most recent call last)",
      "\u001b[0;32m<ipython-input-1-6cf8f92d9d14>\u001b[0m in \u001b[0;36m<module>\u001b[0;34m\u001b[0m\n\u001b[1;32m      2\u001b[0m \u001b[0;32mimport\u001b[0m \u001b[0mcsv\u001b[0m\u001b[0;34m\u001b[0m\u001b[0;34m\u001b[0m\u001b[0m\n\u001b[1;32m      3\u001b[0m \u001b[0;34m\u001b[0m\u001b[0m\n\u001b[0;32m----> 4\u001b[0;31m \u001b[0mfile\u001b[0m \u001b[0;34m=\u001b[0m \u001b[0mopen\u001b[0m\u001b[0;34m(\u001b[0m\u001b[0;34m'tcat_WC2018_VAR-20181126-20190131-----------fullExport--09e31a9f9d.csv'\u001b[0m\u001b[0;34m,\u001b[0m \u001b[0;34m'r'\u001b[0m\u001b[0;34m)\u001b[0m\u001b[0;34m\u001b[0m\u001b[0;34m\u001b[0m\u001b[0m\n\u001b[0m\u001b[1;32m      5\u001b[0m \u001b[0mfile2\u001b[0m \u001b[0;34m=\u001b[0m \u001b[0mopen\u001b[0m\u001b[0;34m(\u001b[0m\u001b[0;34m'output.csv'\u001b[0m\u001b[0;34m,\u001b[0m \u001b[0;34m'w'\u001b[0m\u001b[0;34m)\u001b[0m\u001b[0;34m\u001b[0m\u001b[0;34m\u001b[0m\u001b[0m\n\u001b[1;32m      6\u001b[0m \u001b[0mescritor\u001b[0m \u001b[0;34m=\u001b[0m \u001b[0mcsv\u001b[0m\u001b[0;34m.\u001b[0m\u001b[0mwriter\u001b[0m\u001b[0;34m(\u001b[0m\u001b[0mfile2\u001b[0m\u001b[0;34m,\u001b[0m \u001b[0mlineterminator\u001b[0m \u001b[0;34m=\u001b[0m \u001b[0;34m'\\n'\u001b[0m\u001b[0;34m)\u001b[0m\u001b[0;34m\u001b[0m\u001b[0;34m\u001b[0m\u001b[0m\n",
      "\u001b[0;31mFileNotFoundError\u001b[0m: [Errno 2] No such file or directory: 'tcat_WC2018_VAR-20181126-20190131-----------fullExport--09e31a9f9d.csv'"
     ]
    }
   ],
   "source": [
    "# ENCONTRAR\n",
    "# Encontra tweets com um termo específico e coloca-os em um csv separado\n",
    "\n",
    "# Se for necessário remover a pontuação use a versao 2\n",
    "########################################\n",
    "\n",
    "# importa a biblioteca csv\n",
    "import csv\n",
    "\n",
    "# Pontuacao\n",
    "punctuation = ['.',',',';',':','?','!','@','$','\"','*','_','-','[',']','/','(',')','#','1','2','3','4','5','6','7','8','9','0']\n",
    "\n",
    "# termo buscado \n",
    "# use caixa baixa - o .lower() vai procurar pelo termo em caixa alta e baixa\n",
    "termo = 'var'\n",
    "\n",
    "# Coloque aqui o nome do arquivo a ser dividido\n",
    "input_file = \"tcat_WC2018_VAR-20181126-20190131-----------fullExport--09e31a9f9d.csv\"\n",
    "\n",
    "# Cria os arquivos necessários\n",
    "file = open(input_file, 'r')\n",
    "file2 = open('output.csv', 'w')\n",
    "escritor = csv.writer(file2, lineterminator = '\\n')\n",
    "\n",
    "for line in csv.reader(file):\n",
    "    for word in line[4].split(' '):\n",
    "        for char in punctuation:\n",
    "            word = word.replace(char, ' ')\n",
    "        \n",
    "            if word.lower() == termo:\n",
    "                print(line)\n",
    "                escritor.writerow(line)\n",
    "            \n",
    "file.close()\n",
    "file2.close()"
   ]
  },
  {
   "cell_type": "code",
   "execution_count": null,
   "metadata": {},
   "outputs": [],
   "source": []
  }
 ],
 "metadata": {
  "kernelspec": {
   "display_name": "Python 3",
   "language": "python",
   "name": "python3"
  },
  "language_info": {
   "codemirror_mode": {
    "name": "ipython",
    "version": 3
   },
   "file_extension": ".py",
   "mimetype": "text/x-python",
   "name": "python",
   "nbconvert_exporter": "python",
   "pygments_lexer": "ipython3",
   "version": "3.7.1"
  }
 },
 "nbformat": 4,
 "nbformat_minor": 2
}
