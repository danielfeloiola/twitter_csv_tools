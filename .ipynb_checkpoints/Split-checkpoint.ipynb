{
 "cells": [
  {
   "cell_type": "code",
   "execution_count": null,
   "metadata": {},
   "outputs": [],
   "source": [
    "# DIVIDIR\n",
    "# Divide um arquivo csv em 2 arquivos menores\n",
    "# As linhas serão alternadas entre um arquivo e outro\n",
    "\n",
    "#####################################################\n",
    "\n",
    "# importa a biblioteca de csvs\n",
    "import csv\n",
    "\n",
    "# Cria os arquivos necessários\n",
    "\n",
    "# Coloque aqui o nome do arquivo a ser dividido\n",
    "input_file = \"tcat_WC2018_VAR-20181126-20190131-----------fullExport--09e31a9f9d.csv\"\n",
    "\n",
    "file = open(input_file, 'r')\n",
    "file2 = open('output1.csv', 'w')\n",
    "file3 = open('output2.csv', 'w')\n",
    "\n",
    "# cria os escritores\n",
    "escritor2 = csv.writer(file2, lineterminator = '\\n')\n",
    "escritor3 = csv.writer(file3, lineterminator = '\\n')\n",
    "\n",
    "contador = 0\n",
    "\n",
    "for line in csv.reader(file):\n",
    "    if contador == 0:\n",
    "        escritor2.writerow(line)\n",
    "        escritor3.writerow(line)\n",
    "    elif contador % 2 == 1:\n",
    "        escritor2.writerow(line)\n",
    "    elif contador % 2 == 0:\n",
    "        escritor3.writerow(line)\n",
    "    contador += 1\n",
    "    \n",
    "file.close()\n",
    "file2.close()\n",
    "file3.close()\n",
    "    "
   ]
  }
 ],
 "metadata": {
  "kernelspec": {
   "display_name": "Python 3",
   "language": "python",
   "name": "python3"
  },
  "language_info": {
   "codemirror_mode": {
    "name": "ipython",
    "version": 3
   },
   "file_extension": ".py",
   "mimetype": "text/x-python",
   "name": "python",
   "nbconvert_exporter": "python",
   "pygments_lexer": "ipython3",
   "version": "3.7.1"
  }
 },
 "nbformat": 4,
 "nbformat_minor": 2
}
