{
 "cells": [
  {
   "cell_type": "code",
   "execution_count": 3,
   "metadata": {},
   "outputs": [],
   "source": [
    "# URL-Maker\n",
    "# Cria uma coluna com a url onde é possível ler o tweet\n",
    "\n",
    "########################################\n",
    "\n",
    "# importa a biblioteca csv\n",
    "import csv\n",
    "\n",
    "# Coloque aqui o nome do arquivo\n",
    "input_file = \"tcat_WC2018_VAR-20181126-20190131-----------fullExport--09e31a9f9d.csv\"\n",
    "\n",
    "# Cria os arquivos necessários\n",
    "file = open(input_file, 'r')\n",
    "file2 = open('output.csv', 'w')\n",
    "escritor = csv.writer(file2, lineterminator = '\\n')\n",
    "\n",
    "first = True\n",
    "\n",
    "for line in csv.reader(file):\n",
    "    \n",
    "    if first == True:\n",
    "        url = 'tweet URL'\n",
    "        first = False\n",
    "    else:\n",
    "        url = 'https://twitter.com/' + line[3] + '/status/' + line[0]\n",
    "        \n",
    "    new_line = line\n",
    "    new_line.append(url)\n",
    "    \n",
    "    escritor.writerow(new_line)\n",
    "            \n",
    "file.close()\n",
    "file2.close()"
   ]
  },
  {
   "cell_type": "code",
   "execution_count": null,
   "metadata": {},
   "outputs": [],
   "source": []
  }
 ],
 "metadata": {
  "kernelspec": {
   "display_name": "Python 3",
   "language": "python",
   "name": "python3"
  },
  "language_info": {
   "codemirror_mode": {
    "name": "ipython",
    "version": 3
   },
   "file_extension": ".py",
   "mimetype": "text/x-python",
   "name": "python",
   "nbconvert_exporter": "python",
   "pygments_lexer": "ipython3",
   "version": "3.7.1"
  }
 },
 "nbformat": 4,
 "nbformat_minor": 2
}
